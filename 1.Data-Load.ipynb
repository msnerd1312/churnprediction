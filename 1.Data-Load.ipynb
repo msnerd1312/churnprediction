{
 "cells": [
  {
   "cell_type": "markdown",
   "id": "40e74aaa",
   "metadata": {},
   "source": [
    "# Customer Churn Analysis\n",
    "\n",
    "#### We are tasked to build an end to end machine learning pipeline using snowpark for customer churn prediction in a telecom company.\n",
    "\n",
    "In this notebook we will load, clean and transform the raw parquet dataset\n",
    "\n",
    "Update the config.py file before moving on to the next cell\n",
    "\n"
   ]
  },
  {
   "cell_type": "code",
   "execution_count": 1,
   "id": "f0b06da4",
   "metadata": {},
   "outputs": [
    {
     "name": "stdout",
     "output_type": "stream",
     "text": [
      "(1, 11, 1)\n"
     ]
    }
   ],
   "source": [
    "from snowflake.snowpark.session import Session\n",
    "from snowflake.snowpark import functions as F\n",
    "from snowflake.snowpark import *\n",
    "from snowflake.snowpark.types import *\n",
    "from snowflake.snowpark.functions import udf, col, lit, translate, is_null, iff\n",
    "from sklearn import linear_model\n",
    "import matplotlib.pyplot as plt\n",
    "\n",
    "%matplotlib inline\n",
    "import datetime as dt\n",
    "import numpy as np\n",
    "import pandas as pd\n",
    "import seaborn as sns\n",
    "import json\n",
    "import uuid\n",
    "\n",
    "from snowflake.snowpark import version\n",
    "print(version.VERSION)\n",
    "\n",
    "import warnings\n",
    "warnings.filterwarnings(\"ignore\")"
   ]
  },
  {
   "cell_type": "code",
   "execution_count": 2,
   "id": "11729bc7",
   "metadata": {},
   "outputs": [],
   "source": [
    "# connect to Snowflake\n",
    "with open(\"secrets.json\", \"r\") as f:\n",
    "    snowflake_conn_prop = json.load(f)  \n",
    "session = Session.builder.configs(snowflake_conn_prop).create()"
   ]
  },
  {
   "cell_type": "markdown",
   "id": "1a36d1c4",
   "metadata": {},
   "source": [
    "Let's configure our Snowpark Session and initialize the database, warehouse, and schema that we will use for the remainder of the quickstart."
   ]
  },
  {
   "cell_type": "code",
   "execution_count": 3,
   "id": "24477372",
   "metadata": {},
   "outputs": [
    {
     "name": "stdout",
     "output_type": "stream",
     "text": [
      "[Row(CURRENT_WAREHOUSE()='SNOWPARK_WH', CURRENT_DATABASE()='CHURN_DB', CURRENT_SCHEMA()='CHURN_SCHEMA')]\n"
     ]
    }
   ],
   "source": [
    "\n",
    "#session.close()\n",
    "#session = Session.builder.configs(snowflake_conn_prop).create()\n",
    "session.sql(\"use role accountadmin\").collect()\n",
    "session.sql(\"create database if not exists  {}\".format(snowflake_conn_prop['database'])).collect()\n",
    "session.sql(\"use database {}\".format(snowflake_conn_prop['database'])).collect()\n",
    "session.sql(\"create schema if not exists {}\".format(snowflake_conn_prop['schema'])).collect()\n",
    "session.sql(\"use schema {}\".format(snowflake_conn_prop['schema'])).collect()\n",
    "session.sql(\"create or replace warehouse {} with \\\n",
    "                WAREHOUSE_SIZE = XSMALL \\\n",
    "                AUTO_SUSPEND = 120 \\\n",
    "                AUTO_RESUME = TRUE\".format(snowflake_conn_prop['warehouse'])).collect()\n",
    "session.sql(\"use warehouse {}\".format(snowflake_conn_prop['warehouse']))\n",
    "print(session.sql('select current_warehouse(), current_database(), current_schema()').collect())\n"
   ]
  },
  {
   "cell_type": "markdown",
   "id": "5248d9b5",
   "metadata": {},
   "source": [
    "## Infer file schema & Load Data into snowflake"
   ]
  },
  {
   "cell_type": "code",
   "execution_count": 4,
   "id": "4606797b",
   "metadata": {},
   "outputs": [],
   "source": [
    "#convert csv file to parquet file at the same location\n",
    "df = pd.read_csv('telco_data_set.csv', low_memory=False)\n",
    "df.to_parquet('telco_data_set.parquet', engine=\"fastparquet\")"
   ]
  },
  {
   "cell_type": "code",
   "execution_count": 5,
   "id": "bcd15bb5",
   "metadata": {},
   "outputs": [],
   "source": [
    "#filename = \"raw_telco_data.parquet\"\n",
    "filename = \"telco_data_set.parquet\"\n",
    "stagename = \"rawtelcodata\"\n",
    "rawtable = \"RAW_TELCO_PARQUET_DATA\""
   ]
  },
  {
   "cell_type": "code",
   "execution_count": 6,
   "id": "2dc03ea3",
   "metadata": {},
   "outputs": [
    {
     "data": {
      "text/plain": [
       "[PutResult(source='telco_data_set.parquet', target='telco_data_set.parquet', source_size=4012879, target_size=4012880, source_compression='PARQUET', target_compression='PARQUET', status='UPLOADED', message='')]"
      ]
     },
     "execution_count": 6,
     "metadata": {},
     "output_type": "execute_result"
    }
   ],
   "source": [
    "session.sql(f\"create or replace stage {stagename} DIRECTORY = (ENABLE = TRUE);\").collect()\n",
    "session.file.put(filename,stagename)"
   ]
  },
  {
   "cell_type": "code",
   "execution_count": 7,
   "id": "e8845b13",
   "metadata": {},
   "outputs": [
    {
     "data": {
      "text/plain": [
       "[Row(status='Table RAW_TELCO_PARQUET_DATA successfully created.')]"
      ]
     },
     "execution_count": 7,
     "metadata": {},
     "output_type": "execute_result"
    }
   ],
   "source": [
    "session.sql(\"CREATE OR REPLACE FILE FORMAT MY_PARQUET_FORMAT TYPE = PARQUET;\").collect()\n",
    "\n",
    "session.sql(f\"CREATE OR REPLACE \\\n",
    "            TABLE {rawtable} USING TEMPLATE ( \\\n",
    "                SELECT ARRAY_AGG(OBJECT_CONSTRUCT(*)) \\\n",
    "                FROM \\\n",
    "                    TABLE( INFER_SCHEMA( \\\n",
    "                    LOCATION => '@{stagename}/{filename}', \\\n",
    "                    FILE_FORMAT => 'MY_PARQUET_FORMAT' \\\n",
    "                    ) \\\n",
    "                ) \\\n",
    "            );  \").collect()"
   ]
  },
  {
   "cell_type": "markdown",
   "id": "b616dcda",
   "metadata": {},
   "source": [
    "## For incremental load \n",
    "\n",
    "you might want to just delete all rows and load new data to this table"
   ]
  },
  {
   "cell_type": "code",
   "execution_count": 8,
   "id": "c42a1a65",
   "metadata": {},
   "outputs": [],
   "source": [
    "dfClear = session.table(rawtable).delete()"
   ]
  },
  {
   "cell_type": "code",
   "execution_count": 9,
   "id": "bb5590f6",
   "metadata": {},
   "outputs": [
    {
     "data": {
      "text/plain": [
       "[Row(file='rawtelcodata/telco_data_set.parquet', status='LOADED', rows_parsed=100000, rows_loaded=100000, error_limit=1, errors_seen=0, first_error=None, first_error_line=None, first_error_character=None, first_error_column_name=None)]"
      ]
     },
     "execution_count": 9,
     "metadata": {},
     "output_type": "execute_result"
    }
   ],
   "source": [
    "dfRaw = session.read.option(\"compression\",\"snappy\").parquet(f\"@{stagename}/{filename}\")\n",
    "dfRaw.copy_into_table(rawtable,FORCE= True)"
   ]
  },
  {
   "cell_type": "code",
   "execution_count": 10,
   "id": "69a91e17",
   "metadata": {
    "scrolled": true
   },
   "outputs": [
    {
     "name": "stdout",
     "output_type": "stream",
     "text": [
      "------------------------------------------------------------------------------------------------------------------------------------------------------------------------------------------------------------------------------------------------------------------------------------------------------------------------------------------------------------------------------------------------------------------------\n",
      "|\"GENDER\"  |\"PARTNER\"  |\"DEPENDENTS\"  |\"PHONESERVICE\"  |\"MULTIPLELINES\"  |\"ONLINESECURITY\"  |\"SENIORCITIZEN\"  |\"MONTHLYCHARGES\"  |\"STREAMINGMOVIES\"  |\"PAYMENTMETHOD\"   |\"TENUREMONTHS\"  |\"PAPERLESSBILLING\"  |\"TECHSUPPORT\"  |\"INTERNETSERVICE\"  |\"STREAMINGTV\"  |\"CONTRACT\"      |\"ONLINEBACKUP\"  |\"DEVICEPROTECTION\"  |\"TOTALCHARGES\"  |\"TENUREMONTHSBIN\"  |\"MONTHLYCHARGESBIN\"  |\"TOTALCHARGESBIN\"  |\"CHURNVALUE\"  |\n",
      "------------------------------------------------------------------------------------------------------------------------------------------------------------------------------------------------------------------------------------------------------------------------------------------------------------------------------------------------------------------------------------------------------------------------\n",
      "|Female    |No         |Yes           |Yes             |No               |No                |No               |70.7              |No                 |Electronic check  |2               |Yes                 |No             |Fiber optic        |No             |Month-to-month  |No              |No                  |151.65          |Low                |Low                  |Low                |1             |\n",
      "|Female    |No         |Yes           |Yes             |Yes              |No                |No               |99.65             |Yes                |Electronic check  |8               |Yes                 |No             |Fiber optic        |Yes            |Month-to-month  |No              |Yes                 |820.5           |Medium             |Medium               |Low                |1             |\n",
      "------------------------------------------------------------------------------------------------------------------------------------------------------------------------------------------------------------------------------------------------------------------------------------------------------------------------------------------------------------------------------------------------------------------------\n",
      "\n"
     ]
    }
   ],
   "source": [
    "dfR = session.table(rawtable)\n",
    "#dfR.toPandas()\n",
    "# Drop the column with the empty header\n",
    "dfR = dfR.drop('Unnamed: 0')\n",
    "# Overwrite the original table with the updated dataframe\n",
    "dfR.write.mode(\"overwrite\").save_as_table(rawtable)\n",
    "dfR.show(2)"
   ]
  },
  {
   "cell_type": "code",
   "execution_count": 11,
   "id": "ff29783b",
   "metadata": {},
   "outputs": [
    {
     "name": "stdout",
     "output_type": "stream",
     "text": [
      "GENDER               100000\n",
      "PARTNER              100000\n",
      "DEPENDENTS           100000\n",
      "PHONESERVICE         100000\n",
      "MULTIPLELINES        100000\n",
      "ONLINESECURITY       100000\n",
      "SENIORCITIZEN        100000\n",
      "MONTHLYCHARGES       100000\n",
      "STREAMINGMOVIES      100000\n",
      "PAYMENTMETHOD        100000\n",
      "TENUREMONTHS         100000\n",
      "PAPERLESSBILLING     100000\n",
      "TECHSUPPORT          100000\n",
      "INTERNETSERVICE      100000\n",
      "STREAMINGTV          100000\n",
      "CONTRACT             100000\n",
      "ONLINEBACKUP         100000\n",
      "DEVICEPROTECTION     100000\n",
      "TOTALCHARGES         100000\n",
      "TENUREMONTHSBIN      100000\n",
      "MONTHLYCHARGESBIN    100000\n",
      "TOTALCHARGESBIN      100000\n",
      "CHURNVALUE           100000\n",
      "dtype: int64\n"
     ]
    }
   ],
   "source": [
    "import random\n",
    "import string\n",
    "\n",
    "pd_df = dfR.to_pandas()\n",
    "\n",
    "# Define the number of unique IDs you want to generate\n",
    "num_ids = pd_df.count()\n",
    "print(num_ids)\n",
    "# Generate and add unique IDs to the DataFrame\n",
    "# Generate a list of random IDs\n",
    "#random_ids = [str(uuid.uuid4().hex) for _ in range(num_ids)]\n",
    "# Create a Pandas DataFrame\n",
    "#pd_df = pd.DataFrame({'ID': random_ids})\n",
    "# Create a DataFrame from the list of unique IDs\n",
    "#id_df = session.createDataFrame(pd_df)\n",
    "#id_df.show(10)\n",
    "\n",
    "# Generate a list of random IDs\n",
    "#random_ids = [str(uuid.uuid4().hex) for _ in range(num_ids)]\n",
    "#print(random_ids[1])\n"
   ]
  },
  {
   "cell_type": "code",
   "execution_count": 12,
   "id": "de82055c",
   "metadata": {},
   "outputs": [],
   "source": [
    "# Assuming you have an existing Snowpark DataFrame 'df'\n",
    "# Define the number of rows in the existing DataFrame\n",
    "num_rows = dfR.count()\n",
    "\n",
    "# Generate random IDs\n",
    "random_ids = [''.join(random.choice(string.ascii_letters + string.digits) for _ in range(10)) for _ in range(num_rows)]\n",
    "\n",
    "# Add the 'ID' column with random values to the Pandas DataFrame\n",
    "pd_df['CUSTOMERID'] = random_ids\n",
    "\n",
    "# Convert Pandas DataFrame back to Snowpark DataFrame\n",
    "df_with_id = session.createDataFrame(pd_df)\n",
    "\n",
    "# Display the DataFrame with the added 'ID' column\n",
    "#df_with_id.show(2)"
   ]
  },
  {
   "cell_type": "code",
   "execution_count": 13,
   "id": "bd7c12b6",
   "metadata": {},
   "outputs": [
    {
     "name": "stdout",
     "output_type": "stream",
     "text": [
      "---------------------------------------------------------------------------------------------------------------------------------------------------------------------------------------------------------------------------------------------------------------------------------------------------------------------------------------------------------------------------------------------------------------------------------------\n",
      "|\"GENDER\"  |\"PARTNER\"  |\"DEPENDENTS\"  |\"PHONESERVICE\"  |\"MULTIPLELINES\"  |\"ONLINESECURITY\"  |\"SENIORCITIZEN\"  |\"MONTHLYCHARGES\"  |\"STREAMINGMOVIES\"  |\"PAYMENTMETHOD\"   |\"TENUREMONTHS\"  |\"PAPERLESSBILLING\"  |\"TECHSUPPORT\"  |\"INTERNETSERVICE\"  |\"STREAMINGTV\"  |\"CONTRACT\"      |\"ONLINEBACKUP\"  |\"DEVICEPROTECTION\"  |\"TOTALCHARGES\"  |\"TENUREMONTHSBIN\"  |\"MONTHLYCHARGESBIN\"  |\"TOTALCHARGESBIN\"  |\"CHURNVALUE\"  |\"CUSTOMERID\"  |\n",
      "---------------------------------------------------------------------------------------------------------------------------------------------------------------------------------------------------------------------------------------------------------------------------------------------------------------------------------------------------------------------------------------------------------------------------------------\n",
      "|Female    |No         |Yes           |Yes             |No               |No                |No               |70.7              |No                 |Electronic check  |2               |Yes                 |No             |Fiber optic        |No             |Month-to-month  |No              |No                  |151.65          |Low                |Low                  |Low                |1             |WwrUeyguhu    |\n",
      "|Female    |No         |Yes           |Yes             |Yes              |No                |No               |99.65             |Yes                |Electronic check  |8               |Yes                 |No             |Fiber optic        |Yes            |Month-to-month  |No              |Yes                 |820.5           |Medium             |Medium               |Low                |1             |DNuFFvxO8O    |\n",
      "---------------------------------------------------------------------------------------------------------------------------------------------------------------------------------------------------------------------------------------------------------------------------------------------------------------------------------------------------------------------------------------------------------------------------------------\n",
      "\n"
     ]
    }
   ],
   "source": [
    "df_with_id.show(2)"
   ]
  },
  {
   "cell_type": "code",
   "execution_count": 14,
   "id": "60d27d94",
   "metadata": {},
   "outputs": [],
   "source": [
    "rawtelcotable = \"RAW_TELCO_ID_TABLE\"\n",
    "\n",
    "# Overwrite the original table with the updated dataframe\n",
    "df_with_id.write.mode(\"overwrite\").save_as_table(rawtelcotable)\n",
    "# Retrieve the updated table and display its contents\n",
    "dfR_ID = session.table(rawtelcotable)"
   ]
  },
  {
   "cell_type": "code",
   "execution_count": 15,
   "id": "c7ed76d5",
   "metadata": {},
   "outputs": [
    {
     "name": "stdout",
     "output_type": "stream",
     "text": [
      "---------------------------------------------------------------------------------------------------------------------------------------------------------------------------------------------------------------------------------------------------------------------------------------------------------------------------------------------------------------------------------------------------------------------------------------\n",
      "|\"GENDER\"  |\"PARTNER\"  |\"DEPENDENTS\"  |\"PHONESERVICE\"  |\"MULTIPLELINES\"  |\"ONLINESECURITY\"  |\"SENIORCITIZEN\"  |\"MONTHLYCHARGES\"  |\"STREAMINGMOVIES\"  |\"PAYMENTMETHOD\"   |\"TENUREMONTHS\"  |\"PAPERLESSBILLING\"  |\"TECHSUPPORT\"  |\"INTERNETSERVICE\"  |\"STREAMINGTV\"  |\"CONTRACT\"      |\"ONLINEBACKUP\"  |\"DEVICEPROTECTION\"  |\"TOTALCHARGES\"  |\"TENUREMONTHSBIN\"  |\"MONTHLYCHARGESBIN\"  |\"TOTALCHARGESBIN\"  |\"CHURNVALUE\"  |\"CUSTOMERID\"  |\n",
      "---------------------------------------------------------------------------------------------------------------------------------------------------------------------------------------------------------------------------------------------------------------------------------------------------------------------------------------------------------------------------------------------------------------------------------------\n",
      "|Female    |No         |Yes           |Yes             |No               |No                |No               |70.7              |No                 |Electronic check  |2               |Yes                 |No             |Fiber optic        |No             |Month-to-month  |No              |No                  |151.65          |Low                |Low                  |Low                |1             |WwrUeyguhu    |\n",
      "|Female    |No         |Yes           |Yes             |Yes              |No                |No               |99.65             |Yes                |Electronic check  |8               |Yes                 |No             |Fiber optic        |Yes            |Month-to-month  |No              |Yes                 |820.5           |Medium             |Medium               |Low                |1             |DNuFFvxO8O    |\n",
      "---------------------------------------------------------------------------------------------------------------------------------------------------------------------------------------------------------------------------------------------------------------------------------------------------------------------------------------------------------------------------------------------------------------------------------------\n",
      "\n"
     ]
    }
   ],
   "source": [
    "dfR_ID.show(2)"
   ]
  },
  {
   "cell_type": "code",
   "execution_count": 16,
   "id": "5db8bf67",
   "metadata": {},
   "outputs": [
    {
     "name": "stdout",
     "output_type": "stream",
     "text": [
      "24\n",
      "100000\n"
     ]
    }
   ],
   "source": [
    "# Check the number of columns in each DataFrame\n",
    "l_dfR_ID = len(dfR_ID.columns)\n",
    "print(l_dfR_ID)\n",
    "# Check the number of columns in each DataFrame\n",
    "r_dfR_ID = dfR_ID.count()\n",
    "print(r_dfR_ID)"
   ]
  },
  {
   "cell_type": "markdown",
   "id": "51ff1aae",
   "metadata": {},
   "source": [
    "# Snowpark Transformations\n",
    "\n",
    "The Snowpark API provides programming language constructs for building SQL statements. It's a new developer experience which enables us to build code in :-\n",
    "\n",
    "<b><li>  Language of our choice </li></b>\n",
    "<b><li> Tool of our choice and </li></b>\n",
    "<b><li> Lazy execution to prevent multiple network hops to server </li></b>\n",
    "\n",
    "Once the customer data is available in the RAW schema, we can use snowpark to create dimensions and fact tables. We will use the RAW_PARQUET table to create following tables -\n",
    "    \n",
    "<li> DEMOGRAPHICS </li>\n",
    "<li> LOCATION </li>\n",
    "<li> STATUS </li>\n",
    "<li> SERVICES </li>\n",
    "\n",
    "We will also transform and clean the data using Snowpark dataframe API"
   ]
  },
  {
   "cell_type": "code",
   "execution_count": 17,
   "id": "598e86ae",
   "metadata": {},
   "outputs": [],
   "source": [
    "#dfR = session.table(rawtable)"
   ]
  },
  {
   "cell_type": "code",
   "execution_count": 18,
   "id": "f0987319",
   "metadata": {},
   "outputs": [],
   "source": [
    "#dfR.show(5)"
   ]
  },
  {
   "cell_type": "code",
   "execution_count": 19,
   "id": "3270524d",
   "metadata": {},
   "outputs": [
    {
     "name": "stdout",
     "output_type": "stream",
     "text": [
      "------------------------------------------------------------------------\n",
      "|\"CUSTOMERID\"  |\"GENDER\"  |\"SENIORCITIZEN\"  |\"PARTNER\"  |\"DEPENDENTS\"  |\n",
      "------------------------------------------------------------------------\n",
      "|WwrUeyguhu    |Female    |No               |No         |Yes           |\n",
      "|DNuFFvxO8O    |Female    |No               |No         |Yes           |\n",
      "|xeiCbPqYpb    |Male      |Yes              |No         |Yes           |\n",
      "|NJBFBr8oKJ    |Male      |No               |No         |Yes           |\n",
      "|xu9UDKawli    |Female    |No               |No         |Yes           |\n",
      "|6DTmlnI2x1    |Male      |No               |No         |Yes           |\n",
      "|2YUHLqFUcr    |Male      |No               |No         |No            |\n",
      "|07IwBdHiFH    |Male      |Yes              |No         |No            |\n",
      "|mX13Rfc1Vl    |Male      |No               |No         |No            |\n",
      "|w2PkmlZbto    |Male      |Yes              |Yes        |No            |\n",
      "------------------------------------------------------------------------\n",
      "\n"
     ]
    }
   ],
   "source": [
    "dfDemographics = dfR_ID.select(col(\"CUSTOMERID\"),\n",
    "                             #col(\"COUNT\").alias(\"COUNT\"),\n",
    "                             translate(col(\"GENDER\"),lit(\"NULL\"),lit(\"Male\")).alias(\"GENDER\"),\n",
    "                             col(\"SENIORCITIZEN\").alias(\"SENIORCITIZEN\"),\n",
    "                             col(\"PARTNER\"),\n",
    "                             col(\"DEPENDENTS\")          \n",
    "                            )\n",
    "\n",
    "\n",
    "dfDemographics.write.mode('overwrite').saveAsTable('DEMOGRAPHICS')\n",
    "dfDemographics.show()\n"
   ]
  },
  {
   "cell_type": "code",
   "execution_count": 20,
   "id": "817210af",
   "metadata": {},
   "outputs": [],
   "source": [
    "#dfLocation = dfR.select( col(\"COUNTRY\").name(\"COUNTRY\"),\n",
    "                         #col(\"STATE\").name(\"STATE\"),\n",
    "                         #col(\"CITY\").name(\"CITY\"),\n",
    "                         #translate(col(\"ZIP CODE\"),lit(\"NULL\"),lit(0)).name(\"ZIPCODE\"),\n",
    "                         #col(\"LAT LONG\").name(\"LATLONG\"),\n",
    "                         #col(\"LATITUDE\").name(\"LATITUDE\"),\n",
    "                         #col(\"LONGITUDE\").name(\"LONGITUDE\")       \n",
    "                        #)\n",
    "\n",
    "#dfLocation.write.mode('overwrite').saveAsTable('LOCATION')\n",
    "#dfLocation.show()\n"
   ]
  },
  {
   "cell_type": "markdown",
   "id": "45b8b976",
   "metadata": {},
   "source": [
    "#### you can run transformation on data using similar dataframe API constructs, for example -"
   ]
  },
  {
   "cell_type": "code",
   "execution_count": 21,
   "id": "49423699",
   "metadata": {},
   "outputs": [
    {
     "name": "stdout",
     "output_type": "stream",
     "text": [
      "------------------------------------------------------------------------------------------------------------------------------------------------------------------------------------------------------------------------------------------------------------------------------------------------------------------------------------------------------------------------------------------------------\n",
      "|\"CUSTOMERID\"  |\"TENUREMONTHS\"  |\"PHONESERVICE\"  |\"MULTIPLELINES\"  |\"INTERNETSERVICE\"  |\"ONLINESECURITY\"     |\"ONLINEBACKUP\"       |\"DEVICEPROTECTION\"   |\"TECHSUPPORT\"        |\"STREAMINGTV\"        |\"STREAMINGMOVIES\"    |\"CONTRACT\"      |\"PAPERLESSBILLING\"  |\"PAYMENTMETHOD\"   |\"MONTHLYCHARGES\"  |\"TOTALCHARGES\"  |\"TENUREMONTHSBIN\"  |\"MONTHLYCHARGESBIN\"  |\"TOTALCHARGESBIN\"  |\"CHURNVALUE\"  |\n",
      "------------------------------------------------------------------------------------------------------------------------------------------------------------------------------------------------------------------------------------------------------------------------------------------------------------------------------------------------------------------------------------------------------\n",
      "|WwrUeyguhu    |2               |Yes             |No               |Fiber optic        |No                   |No                   |No                   |No                   |No                   |No                   |Month-to-month  |Yes                 |Electronic check  |70.7              |151.65          |Low                |Low                  |Low                |1             |\n",
      "|DNuFFvxO8O    |8               |Yes             |Yes              |Fiber optic        |No                   |No                   |Yes                  |No                   |Yes                  |Yes                  |Month-to-month  |Yes                 |Electronic check  |99.65             |820.5           |Medium             |Medium               |Low                |1             |\n",
      "|xeiCbPqYpb    |18              |Yes             |Yes              |Fiber optic        |No                   |No                   |No                   |No                   |Yes                  |Yes                  |Month-to-month  |Yes                 |Electronic check  |95.45             |1752.55         |Low                |Medium               |Low                |1             |\n",
      "|NJBFBr8oKJ    |3               |Yes             |Yes              |Fiber optic        |No                   |No                   |No                   |No                   |No                   |No                   |Month-to-month  |Yes                 |Electronic check  |74.4              |229.55          |Medium             |Low                  |Low                |1             |\n",
      "|xu9UDKawli    |13              |Yes             |No               |Fiber optic        |No                   |Yes                  |Yes                  |No                   |No                   |No                   |Month-to-month  |Yes                 |Electronic check  |79.25             |1111.65         |Low                |Medium               |Low                |1             |\n",
      "|6DTmlnI2x1    |1               |Yes             |No               |Fiber optic        |Yes                  |No                   |No                   |No                   |No                   |Yes                  |Month-to-month  |Yes                 |Mailed check      |84.6              |84.6            |Low                |High                 |Low                |1             |\n",
      "|2YUHLqFUcr    |59              |Yes             |No               |No                 |No internet service  |No internet service  |No internet service  |No internet service  |No internet service  |No internet service  |Two year        |No                  |Mailed check      |19.35             |1099.6          |Low                |High                 |Low                |1             |\n",
      "|07IwBdHiFH    |8               |Yes             |No               |Fiber optic        |No                   |Yes                  |No                   |No                   |No                   |No                   |Month-to-month  |Yes                 |Electronic check  |74.5              |606.55          |Low                |Low                  |Low                |1             |\n",
      "|mX13Rfc1Vl    |5               |Yes             |No               |Fiber optic        |No                   |No                   |No                   |No                   |Yes                  |No                   |Month-to-month  |Yes                 |Electronic check  |80.6              |415.55          |Medium             |High                 |Medium             |1             |\n",
      "|w2PkmlZbto    |24              |Yes             |No               |Fiber optic        |No                   |No                   |Yes                  |No                   |Yes                  |Yes                  |Month-to-month  |Yes                 |Electronic check  |93.15             |2231.05         |High               |Medium               |Medium             |1             |\n",
      "------------------------------------------------------------------------------------------------------------------------------------------------------------------------------------------------------------------------------------------------------------------------------------------------------------------------------------------------------------------------------------------------------\n",
      "\n"
     ]
    }
   ],
   "source": [
    "dfServices = dfR_ID.select(col(\"CUSTOMERID\"),\n",
    "                       col(\"TENUREMONTHS\").name(\"TENUREMONTHS\"),\n",
    "                       iff(is_null(col(\"PHONESERVICE\")),lit('N'),col(\"PHONESERVICE\")).name(\"PHONESERVICE\"),\n",
    "                       iff(is_null(col(\"MULTIPLELINES\")),lit(\"No\"),col(\"MULTIPLELINES\")).name(\"MULTIPLELINES\"),\n",
    "                       iff(is_null(col(\"INTERNETSERVICE\")),lit(\"No\"),col(\"INTERNETSERVICE\")).name(\"INTERNETSERVICE\"),\n",
    "                       iff(is_null(col(\"ONLINESECURITY\")),lit(\"No\"),col(\"ONLINESECURITY\")).name(\"ONLINESECURITY\"),\n",
    "                       iff(is_null(col(\"ONLINEBACKUP\")),lit(\"No\"),col(\"ONLINEBACKUP\")).name(\"ONLINEBACKUP\"),\n",
    "                       iff(is_null(col(\"DEVICEPROTECTION\")),lit(\"No\"),col(\"DEVICEPROTECTION\")).name(\"DEVICEPROTECTION\"),\n",
    "                       iff(is_null(col(\"TECHSUPPORT\")),lit('N'),col(\"TECHSUPPORT\")).name(\"TECHSUPPORT\"),\n",
    "                       iff(is_null(col(\"STREAMINGTV\")),lit(\"No\"),col(\"STREAMINGTV\")).name(\"STREAMINGTV\"),\n",
    "                       iff(is_null(col(\"STREAMINGMOVIES\")),lit(\"No\"),col(\"STREAMINGMOVIES\")).name(\"STREAMINGMOVIES\"),\n",
    "                       iff(is_null(col(\"CONTRACT\")),lit(\"Month-to-month\"),col(\"CONTRACT\")).name(\"CONTRACT\"),\n",
    "                       iff(is_null(col(\"PAPERLESSBILLING\")),lit('Y'),col(\"PAPERLESSBILLING\")).name(\"PAPERLESSBILLING\"),\n",
    "                       iff(is_null(col(\"PAYMENTMETHOD\")),lit(\"Mailed check\"),col(\"PAYMENTMETHOD\")).name(\"PAYMENTMETHOD\"),\n",
    "                       col(\"MONTHLYCHARGES\").name(\"MONTHLYCHARGES\"),\n",
    "                       col(\"TOTALCHARGES\").name(\"TOTALCHARGES\"),\n",
    "                       col(\"TENUREMONTHSBIN\").name(\"TENUREMONTHSBIN\"),\n",
    "                       col(\"MONTHLYCHARGESBIN\").name(\"MONTHLYCHARGESBIN\"),\n",
    "                       col(\"TOTALCHARGESBIN\").name(\"TOTALCHARGESBIN\"),\n",
    "                       col(\"CHURNVALUE\").name(\"CHURNVALUE\")        \n",
    "\n",
    "                      )\n",
    "\n",
    "dfServices.write.mode('overwrite').saveAsTable('SERVICES')\n",
    "dfServices.show()"
   ]
  },
  {
   "cell_type": "code",
   "execution_count": 22,
   "id": "d18c28d7",
   "metadata": {},
   "outputs": [],
   "source": [
    "#dfStatus = dfR.select(col(\"CUSTOMERID\"),\n",
    "                    #iff(is_null(col(\"CHURN LABEL\")),lit('N'),col(\"CHURN LABEL\")).name(\"CHURNLABEL\"),\n",
    "                    #col(\"CHURN VALUE\").name(\"CHURNVALUE\"),\n",
    "                    #col(\"CHURN SCORE\").name(\"CHURNSCORE\"),\n",
    "                    #col(\"CLTV\").name(\"CLTV\"),\n",
    "                    #iff(is_null(col(\"CHURN REASON\")),lit(\"do not know\"),col(\"CHURN REASON\")).name(\"CHURNREASON\")          \n",
    "                    #)\n",
    "\n",
    "#dfStatus.write.mode('overwrite').saveAsTable('STATUS')\n",
    "#dfStatus.show()\n"
   ]
  },
  {
   "cell_type": "markdown",
   "id": "d3ce458f",
   "metadata": {},
   "source": [
    "# Lets check the data using an example query\n",
    "\n",
    "This shows one of many uses of snowpark. You can build and query dataframes lazily."
   ]
  },
  {
   "cell_type": "code",
   "execution_count": 23,
   "id": "fa1f611a",
   "metadata": {},
   "outputs": [],
   "source": [
    "# Lets run a query for quick sanity check\n",
    "# This Query will show us the total revenue by city and contract term\n",
    "\n",
    "#dfLoc = session.table(\"LOCATION\")\n",
    "#dfServ = session.table(\"SERVICES\")\n",
    "\n",
    "#dfJoin = dfLoc.join(dfServ,dfLoc.col(\"CUSTOMERID\") == dfServ.col(\"CUSTOMERID\"))\n",
    "\n",
    "#dfResult = dfJoin.select(col(\"CITY\"),\n",
    "                         #col(\"CONTRACT\"),\n",
    "                         #col(\"TOTALCHARGES\")).groupBy(col(\"CITY\"),col(\"CONTRACT\")).sum(col(\"TOTALCHARGES\"))\n",
    "\n",
    "#dfResult.show()"
   ]
  },
  {
   "cell_type": "markdown",
   "id": "f152f92a",
   "metadata": {},
   "source": [
    "### Let's create a view for data science team to begin data analysis"
   ]
  },
  {
   "cell_type": "markdown",
   "id": "96cba333",
   "metadata": {},
   "source": [
    "To do so, join up the `DEMOGRAPHICS` and `SERVICES` tables based on `CUSTOMERID`"
   ]
  },
  {
   "cell_type": "code",
   "execution_count": 24,
   "id": "7aac1800",
   "metadata": {},
   "outputs": [
    {
     "data": {
      "text/plain": [
       "[Row(status='View TRAIN_DATASET_BIN successfully created.')]"
      ]
     },
     "execution_count": 24,
     "metadata": {},
     "output_type": "execute_result"
    }
   ],
   "source": [
    "dfD = session.table('DEMOGRAPHICS')\n",
    "dfS = session.table('SERVICES')\n",
    "dfJ = dfD.join(dfS, using_columns='CUSTOMERID', join_type = 'left')\n",
    "dfJ.select(col('GENDER'),\n",
    "              col('SENIORCITIZEN'),\n",
    "              col('PARTNER'),\n",
    "              col('DEPENDENTS'),\n",
    "              col('MULTIPLELINES'),\n",
    "              col('INTERNETSERVICE'),\n",
    "              col('ONLINESECURITY'),\n",
    "              col('ONLINEBACKUP'),\n",
    "              col('DEVICEPROTECTION'),\n",
    "              col('TECHSUPPORT'),\n",
    "              col('STREAMINGTV'),\n",
    "              col('STREAMINGMOVIES'),\n",
    "              col('CONTRACT'),\n",
    "              col('PAPERLESSBILLING'),\n",
    "              col('PAYMENTMETHOD'),\n",
    "              col('TENUREMONTHS'),\n",
    "              col('MONTHLYCHARGES'),\n",
    "              col('TOTALCHARGES'),\n",
    "              col('TENUREMONTHSBIN'),\n",
    "              col('MONTHLYCHARGESBIN'),\n",
    "              col('TOTALCHARGESBIN'),\n",
    "              col('CHURNVALUE'))\n",
    "dfJ.create_or_replace_view('TRAIN_DATASET_BIN')"
   ]
  },
  {
   "cell_type": "code",
   "execution_count": 25,
   "id": "9e619437",
   "metadata": {},
   "outputs": [
    {
     "name": "stdout",
     "output_type": "stream",
     "text": [
      "CPU times: user 15.5 ms, sys: 3.95 ms, total: 19.4 ms\n",
      "Wall time: 314 ms\n"
     ]
    }
   ],
   "source": [
    "%%time\n",
    "\n",
    "raw = session.table('TRAIN_DATASET_BIN').sample(n = 20)\n",
    "data = raw.toPandas()"
   ]
  },
  {
   "cell_type": "markdown",
   "id": "96bb54b7",
   "metadata": {},
   "source": [
    "# Off to ~02 notebook for exploratory data analysis"
   ]
  },
  {
   "cell_type": "code",
   "execution_count": 26,
   "id": "c180046a",
   "metadata": {
    "scrolled": true
   },
   "outputs": [
    {
     "data": {
      "text/html": [
       "<div>\n",
       "<style scoped>\n",
       "    .dataframe tbody tr th:only-of-type {\n",
       "        vertical-align: middle;\n",
       "    }\n",
       "\n",
       "    .dataframe tbody tr th {\n",
       "        vertical-align: top;\n",
       "    }\n",
       "\n",
       "    .dataframe thead th {\n",
       "        text-align: right;\n",
       "    }\n",
       "</style>\n",
       "<table border=\"1\" class=\"dataframe\">\n",
       "  <thead>\n",
       "    <tr style=\"text-align: right;\">\n",
       "      <th></th>\n",
       "      <th>CUSTOMERID</th>\n",
       "      <th>GENDER</th>\n",
       "      <th>SENIORCITIZEN</th>\n",
       "      <th>PARTNER</th>\n",
       "      <th>DEPENDENTS</th>\n",
       "      <th>TENUREMONTHS</th>\n",
       "      <th>PHONESERVICE</th>\n",
       "      <th>MULTIPLELINES</th>\n",
       "      <th>INTERNETSERVICE</th>\n",
       "      <th>ONLINESECURITY</th>\n",
       "      <th>ONLINEBACKUP</th>\n",
       "      <th>DEVICEPROTECTION</th>\n",
       "      <th>TECHSUPPORT</th>\n",
       "      <th>STREAMINGTV</th>\n",
       "      <th>STREAMINGMOVIES</th>\n",
       "      <th>CONTRACT</th>\n",
       "      <th>PAPERLESSBILLING</th>\n",
       "      <th>PAYMENTMETHOD</th>\n",
       "      <th>MONTHLYCHARGES</th>\n",
       "      <th>TOTALCHARGES</th>\n",
       "      <th>TENUREMONTHSBIN</th>\n",
       "      <th>MONTHLYCHARGESBIN</th>\n",
       "      <th>TOTALCHARGESBIN</th>\n",
       "      <th>CHURNVALUE</th>\n",
       "    </tr>\n",
       "  </thead>\n",
       "  <tbody>\n",
       "    <tr>\n",
       "      <th>0</th>\n",
       "      <td>t34zhyWFNv</td>\n",
       "      <td>Female</td>\n",
       "      <td>No</td>\n",
       "      <td>Yes</td>\n",
       "      <td>No</td>\n",
       "      <td>22</td>\n",
       "      <td>Yes</td>\n",
       "      <td>Yes</td>\n",
       "      <td>DSL</td>\n",
       "      <td>Yes</td>\n",
       "      <td>No</td>\n",
       "      <td>No</td>\n",
       "      <td>Yes</td>\n",
       "      <td>Yes</td>\n",
       "      <td>Yes</td>\n",
       "      <td>Month-to-month</td>\n",
       "      <td>Yes</td>\n",
       "      <td>Electronic check</td>\n",
       "      <td>79.20</td>\n",
       "      <td>1742.75</td>\n",
       "      <td>Medium</td>\n",
       "      <td>Medium</td>\n",
       "      <td>Low</td>\n",
       "      <td>1</td>\n",
       "    </tr>\n",
       "    <tr>\n",
       "      <th>1</th>\n",
       "      <td>8wdPc6SyD8</td>\n",
       "      <td>Female</td>\n",
       "      <td>No</td>\n",
       "      <td>No</td>\n",
       "      <td>No</td>\n",
       "      <td>11</td>\n",
       "      <td>Yes</td>\n",
       "      <td>No</td>\n",
       "      <td>DSL</td>\n",
       "      <td>Yes</td>\n",
       "      <td>No</td>\n",
       "      <td>No</td>\n",
       "      <td>No</td>\n",
       "      <td>No</td>\n",
       "      <td>No</td>\n",
       "      <td>Month-to-month</td>\n",
       "      <td>No</td>\n",
       "      <td>Credit card (automatic)</td>\n",
       "      <td>48.55</td>\n",
       "      <td>501.00</td>\n",
       "      <td>Low</td>\n",
       "      <td>Low</td>\n",
       "      <td>High</td>\n",
       "      <td>1</td>\n",
       "    </tr>\n",
       "    <tr>\n",
       "      <th>2</th>\n",
       "      <td>6h6ar7ZzBl</td>\n",
       "      <td>Female</td>\n",
       "      <td>Yes</td>\n",
       "      <td>Yes</td>\n",
       "      <td>No</td>\n",
       "      <td>56</td>\n",
       "      <td>Yes</td>\n",
       "      <td>Yes</td>\n",
       "      <td>Fiber optic</td>\n",
       "      <td>No</td>\n",
       "      <td>No</td>\n",
       "      <td>Yes</td>\n",
       "      <td>No</td>\n",
       "      <td>Yes</td>\n",
       "      <td>Yes</td>\n",
       "      <td>Month-to-month</td>\n",
       "      <td>Yes</td>\n",
       "      <td>Bank transfer (automatic)</td>\n",
       "      <td>100.65</td>\n",
       "      <td>5688.05</td>\n",
       "      <td>High</td>\n",
       "      <td>High</td>\n",
       "      <td>Low</td>\n",
       "      <td>1</td>\n",
       "    </tr>\n",
       "    <tr>\n",
       "      <th>3</th>\n",
       "      <td>Am1NwIOiFc</td>\n",
       "      <td>Female</td>\n",
       "      <td>No</td>\n",
       "      <td>No</td>\n",
       "      <td>No</td>\n",
       "      <td>1</td>\n",
       "      <td>Yes</td>\n",
       "      <td>Yes</td>\n",
       "      <td>Fiber optic</td>\n",
       "      <td>No</td>\n",
       "      <td>No</td>\n",
       "      <td>No</td>\n",
       "      <td>No</td>\n",
       "      <td>No</td>\n",
       "      <td>No</td>\n",
       "      <td>Month-to-month</td>\n",
       "      <td>No</td>\n",
       "      <td>Electronic check</td>\n",
       "      <td>76.00</td>\n",
       "      <td>76.00</td>\n",
       "      <td>Medium</td>\n",
       "      <td>Medium</td>\n",
       "      <td>Low</td>\n",
       "      <td>1</td>\n",
       "    </tr>\n",
       "    <tr>\n",
       "      <th>4</th>\n",
       "      <td>gKq74yLXiX</td>\n",
       "      <td>Female</td>\n",
       "      <td>No</td>\n",
       "      <td>Yes</td>\n",
       "      <td>No</td>\n",
       "      <td>71</td>\n",
       "      <td>Yes</td>\n",
       "      <td>Yes</td>\n",
       "      <td>DSL</td>\n",
       "      <td>Yes</td>\n",
       "      <td>Yes</td>\n",
       "      <td>Yes</td>\n",
       "      <td>Yes</td>\n",
       "      <td>Yes</td>\n",
       "      <td>Yes</td>\n",
       "      <td>Two year</td>\n",
       "      <td>No</td>\n",
       "      <td>Bank transfer (automatic)</td>\n",
       "      <td>87.95</td>\n",
       "      <td>6365.35</td>\n",
       "      <td>Low</td>\n",
       "      <td>Medium</td>\n",
       "      <td>Low</td>\n",
       "      <td>0</td>\n",
       "    </tr>\n",
       "  </tbody>\n",
       "</table>\n",
       "</div>"
      ],
      "text/plain": [
       "   CUSTOMERID  GENDER SENIORCITIZEN PARTNER DEPENDENTS  TENUREMONTHS  \\\n",
       "0  t34zhyWFNv  Female            No     Yes         No            22   \n",
       "1  8wdPc6SyD8  Female            No      No         No            11   \n",
       "2  6h6ar7ZzBl  Female           Yes     Yes         No            56   \n",
       "3  Am1NwIOiFc  Female            No      No         No             1   \n",
       "4  gKq74yLXiX  Female            No     Yes         No            71   \n",
       "\n",
       "  PHONESERVICE MULTIPLELINES INTERNETSERVICE ONLINESECURITY ONLINEBACKUP  \\\n",
       "0          Yes           Yes             DSL            Yes           No   \n",
       "1          Yes            No             DSL            Yes           No   \n",
       "2          Yes           Yes     Fiber optic             No           No   \n",
       "3          Yes           Yes     Fiber optic             No           No   \n",
       "4          Yes           Yes             DSL            Yes          Yes   \n",
       "\n",
       "  DEVICEPROTECTION TECHSUPPORT STREAMINGTV STREAMINGMOVIES        CONTRACT  \\\n",
       "0               No         Yes         Yes             Yes  Month-to-month   \n",
       "1               No          No          No              No  Month-to-month   \n",
       "2              Yes          No         Yes             Yes  Month-to-month   \n",
       "3               No          No          No              No  Month-to-month   \n",
       "4              Yes         Yes         Yes             Yes        Two year   \n",
       "\n",
       "  PAPERLESSBILLING              PAYMENTMETHOD  MONTHLYCHARGES  TOTALCHARGES  \\\n",
       "0              Yes           Electronic check           79.20       1742.75   \n",
       "1               No    Credit card (automatic)           48.55        501.00   \n",
       "2              Yes  Bank transfer (automatic)          100.65       5688.05   \n",
       "3               No           Electronic check           76.00         76.00   \n",
       "4               No  Bank transfer (automatic)           87.95       6365.35   \n",
       "\n",
       "  TENUREMONTHSBIN MONTHLYCHARGESBIN TOTALCHARGESBIN  CHURNVALUE  \n",
       "0          Medium            Medium             Low           1  \n",
       "1             Low               Low            High           1  \n",
       "2            High              High             Low           1  \n",
       "3          Medium            Medium             Low           1  \n",
       "4             Low            Medium             Low           0  "
      ]
     },
     "execution_count": 26,
     "metadata": {},
     "output_type": "execute_result"
    }
   ],
   "source": [
    "pd.pandas.set_option('display.max_columns', None)\n",
    "data.head()"
   ]
  },
  {
   "cell_type": "code",
   "execution_count": 27,
   "id": "af045ff0",
   "metadata": {},
   "outputs": [],
   "source": [
    "session.close()"
   ]
  }
 ],
 "metadata": {
  "kernelspec": {
   "display_name": "Python 3 (ipykernel)",
   "language": "python",
   "name": "python3"
  },
  "language_info": {
   "codemirror_mode": {
    "name": "ipython",
    "version": 3
   },
   "file_extension": ".py",
   "mimetype": "text/x-python",
   "name": "python",
   "nbconvert_exporter": "python",
   "pygments_lexer": "ipython3",
   "version": "3.9.18"
  },
  "vscode": {
   "interpreter": {
    "hash": "6297ec0394cd0a9f8996d9ae65d297808cbf00f3dbbe86db7fa7a80d51cc9063"
   }
  }
 },
 "nbformat": 4,
 "nbformat_minor": 5
}
